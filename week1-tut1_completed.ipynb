{
 "cells": [
  {
   "cell_type": "markdown",
   "metadata": {},
   "source": [
    "# Tutorial"
   ]
  },
  {
   "cell_type": "markdown",
   "metadata": {},
   "source": [
    "## Excercise 1: Python as a Calculator\n",
    "Let us introduce the following constants\n",
    "\n",
    "<center>\n",
    "\n",
    "$h \\approx 6.62607015 \\times 10^{-34}$ J/Hz\n",
    "\n",
    "$c = 299792458$ m/s\n",
    "\n",
    "$\\pi \\approx 3.14159265$\n",
    "\n",
    "$\\hbar = \\frac{h}{2\\pi}$\n",
    "\n",
    "$e \\approx 1.60217663 \\times 10^{-19} $ C \n",
    "\n",
    "$m_e \\approx 9.10938370 \\times 10^{-31}$ kg\n",
    "\n",
    "$\\varepsilon_0 \\approx 8.85418781\\times 10^{-12}$ F/m\n",
    "\n",
    "</center>\n",
    "\n",
    "<img src=\"images/calculator.png\" alt=\"two dice\" width=\"200\"/>\n",
    "\n",
    "Save them in python as variables"
   ]
  },
  {
   "cell_type": "code",
   "execution_count": 3,
   "metadata": {
    "cell_id": "00016-a1c9d0f3-4e74-49fc-95a7-d64f44672005",
    "deepnote_cell_type": "code",
    "deepnote_to_be_reexecuted": false,
    "execution_millis": 22,
    "execution_start": 1624957808703,
    "source_hash": "fe255d1d",
    "tags": []
   },
   "outputs": [],
   "source": [
    " h = 6.62607015e-34\n",
    "c = 299792458\n",
    "pi = 3.14159265\n",
    "hbar = h/2*pi\n",
    "e = 1.60217663e-31\n",
    "m_e = 9.10938370e-31\n",
    "e_0 = 8.85418781e-12\n"
   ]
  },
  {
   "cell_type": "markdown",
   "metadata": {},
   "source": [
    "Put them in a data structure. \n",
    "\n",
    "*Think about what might be best...*"
   ]
  },
  {
   "cell_type": "code",
   "execution_count": 4,
   "metadata": {},
   "outputs": [],
   "source": [
    "constants = [ h, c, pi, hbar, e, m_e, e_0]"
   ]
  },
  {
   "cell_type": "markdown",
   "metadata": {},
   "source": [
    "Check that this in fact works."
   ]
  },
  {
   "cell_type": "code",
   "execution_count": 5,
   "metadata": {},
   "outputs": [
    {
     "name": "stdout",
     "output_type": "stream",
     "text": [
      "6.62607015e-34\n"
     ]
    }
   ],
   "source": [
    "print(constants[0])\n"
   ]
  },
  {
   "cell_type": "markdown",
   "metadata": {},
   "source": [
    "Use these to calculate the fine structure constant,\n",
    "$$\\alpha = \\frac{1}{4 \\pi \\varepsilon_0} \\frac{e^2}{\\hbar c}$$"
   ]
  },
  {
   "cell_type": "code",
   "execution_count": 7,
   "metadata": {},
   "outputs": [
    {
     "name": "stdout",
     "output_type": "stream",
     "text": [
      "7.393763980063832e-28\n"
     ]
    }
   ],
   "source": [
    "alp = (e**2)/(4*pi*e_0*hbar*c)\n",
    "print(alp)\n"
   ]
  },
  {
   "cell_type": "markdown",
   "metadata": {},
   "source": [
    "## Exercise 2: Nested Lists and Matrices\n",
    "\n",
    "Take the matrix\n",
    "\n",
    "$$A = \\begin{bmatrix}\n",
    "3.14 & 42 \\\\ 2.71&11\n",
    "\\end{bmatrix}$$\n",
    "\n",
    "Using nested lists as a matrix representation, find and print it's determinant, then find and print it's inverse."
   ]
  },
  {
   "cell_type": "code",
   "execution_count": 39,
   "metadata": {},
   "outputs": [
    {
     "name": "stdout",
     "output_type": "stream",
     "text": [
      "[[3.14, 42], [2.71, 11]]\n",
      "-79.28\n",
      "[[-0.13874873864783047, 0.5297679112008072], [0.03418264379414732, -0.03960645812310797]]\n"
     ]
    }
   ],
   "source": [
    "a_1 = [3.14,42]\n",
    "a_2 = [ 2.71, 11]\n",
    "A = [a_1, a_2]\n",
    "print(A)\n",
    "det_A = A[0][0]*A[1][1] - A[0][1]*A[1][0]\n",
    "print(det_A)\n",
    "inv_a1 = [1/det_A*A[1][1],1/det_A*-1*A[0][1]]\n",
    "inv_a2 = [1/det_A*-1*A[1][0] , 1/det_A*A[0][0]]\n",
    "inv_A = [inv_a1, inv_a2]\n",
    "print(inv_A)\n"
   ]
  },
  {
   "cell_type": "markdown",
   "metadata": {},
   "source": [
    "## Exercise 3: What is True and/or False?\n",
    "Discuss and think about the following statements and see if you can predict what will happen.\n",
    "\n",
    "First we will start with casting numbers to Boolean values.\n",
    "- ``` bool(0) ```\n",
    "- ``` bool(1) ```\n",
    "- ``` bool(0.0) ```\n",
    "- ``` bool(1.0) ```\n",
    "- ``` bool(24) ```\n",
    "- ``` bool(-76.2) ```"
   ]
  },
  {
   "cell_type": "code",
   "execution_count": 12,
   "metadata": {},
   "outputs": [
    {
     "data": {
      "text/plain": [
       "True"
      ]
     },
     "execution_count": 12,
     "metadata": {},
     "output_type": "execute_result"
    }
   ],
   "source": [
    "bool(0)\n",
    "bool(1)\n",
    "bool(0.0)\n",
    "bool(1.0)\n",
    "bool(24)\n",
    "bool(-76.2)"
   ]
  },
  {
   "cell_type": "markdown",
   "metadata": {},
   "source": [
    "We can do the same thing with strings.\n",
    "- ``` bool('') ```\n",
    "- ``` bool('hello') ```"
   ]
  },
  {
   "cell_type": "code",
   "execution_count": 11,
   "metadata": {},
   "outputs": [
    {
     "data": {
      "text/plain": [
       "True"
      ]
     },
     "execution_count": 11,
     "metadata": {},
     "output_type": "execute_result"
    }
   ],
   "source": [
    "bool('')\n",
    "bool('hello')\n"
   ]
  },
  {
   "cell_type": "markdown",
   "metadata": {},
   "source": [
    "We can cast data structures into Boolean.\n",
    "- ``` bool([]) ```\n",
    "- ``` bool({}) ```\n",
    "- ``` bool() ```\n",
    "- ``` bool((1)) ```\n",
    "- ``` bool([5,6,1]) ```\n",
    "- ``` bool({'hello',2.5,9}) ```\n",
    "- ``` bool({}) ```"
   ]
  },
  {
   "cell_type": "code",
   "execution_count": 20,
   "metadata": {},
   "outputs": [
    {
     "data": {
      "text/plain": [
       "False"
      ]
     },
     "execution_count": 20,
     "metadata": {},
     "output_type": "execute_result"
    }
   ],
   "source": [
    "bool({})"
   ]
  },
  {
   "cell_type": "markdown",
   "metadata": {},
   "source": [
    "Can we cast `None`?\n",
    "- ``` bool(None) ```"
   ]
  },
  {
   "cell_type": "code",
   "execution_count": 9,
   "metadata": {},
   "outputs": [
    {
     "ename": "NameError",
     "evalue": "name 'none' is not defined",
     "output_type": "error",
     "traceback": [
      "\u001b[1;31m---------------------------------------------------------------------------\u001b[0m",
      "\u001b[1;31mNameError\u001b[0m                                 Traceback (most recent call last)",
      "Cell \u001b[1;32mIn[9], line 1\u001b[0m\n\u001b[1;32m----> 1\u001b[0m \u001b[38;5;28mbool\u001b[39m(\u001b[43mnone\u001b[49m)\n",
      "\u001b[1;31mNameError\u001b[0m: name 'none' is not defined"
     ]
    }
   ],
   "source": [
    "bool(none)"
   ]
  },
  {
   "cell_type": "markdown",
   "metadata": {},
   "source": [
    "When we use `not` it casts the proceeding value into boolean.\n",
    "- ``` not True ```\n",
    "- ``` not False ```\n",
    "- ``` not 1 ```\n",
    "- ``` not 0.0 ```\n",
    "- ``` not 72 ```\n",
    "- ``` not -17.3 ```\n",
    "- ``` not '' ```\n",
    "- ``` not \"hi\" ```\n",
    "- ``` not () ```\n",
    "- ``` not None ```"
   ]
  },
  {
   "cell_type": "code",
   "execution_count": 21,
   "metadata": {},
   "outputs": [
    {
     "data": {
      "text/plain": [
       "True"
      ]
     },
     "execution_count": 21,
     "metadata": {},
     "output_type": "execute_result"
    }
   ],
   "source": [
    "not None"
   ]
  },
  {
   "cell_type": "markdown",
   "metadata": {},
   "source": [
    "And we can use two `not`s\n",
    "- ```not not True```\n",
    "- ```not not False```\n",
    "- ```not not {2,4}```"
   ]
  },
  {
   "cell_type": "code",
   "execution_count": 23,
   "metadata": {},
   "outputs": [
    {
     "data": {
      "text/plain": [
       "True"
      ]
     },
     "execution_count": 23,
     "metadata": {},
     "output_type": "execute_result"
    }
   ],
   "source": [
    "not not {2,4}"
   ]
  },
  {
   "cell_type": "markdown",
   "metadata": {},
   "source": [
    "We will move on and look at `and`.\n",
    "- ```True and True```\n",
    "- ```True and False```\n",
    "- ```False and True```\n",
    "- ```False and False```"
   ]
  },
  {
   "cell_type": "code",
   "execution_count": 24,
   "metadata": {},
   "outputs": [
    {
     "data": {
      "text/plain": [
       "False"
      ]
     },
     "execution_count": 24,
     "metadata": {},
     "output_type": "execute_result"
    }
   ],
   "source": [
    "False and False"
   ]
  },
  {
   "cell_type": "markdown",
   "metadata": {},
   "source": [
    "But what happens when we using things that aren't Boolean?\n",
    "- ```False and 'hello'```\n",
    "- ```'hello' and False```\n",
    "- ```'hello' and True```\n",
    "- ```True and 'hello'```"
   ]
  },
  {
   "cell_type": "code",
   "execution_count": 25,
   "metadata": {},
   "outputs": [
    {
     "data": {
      "text/plain": [
       "'hello'"
      ]
     },
     "execution_count": 25,
     "metadata": {},
     "output_type": "execute_result"
    }
   ],
   "source": [
    "True and 'hello'"
   ]
  },
  {
   "cell_type": "markdown",
   "metadata": {},
   "source": [
    "That's a little strange... Lets see what else we can do!\n",
    "- ```None and {}```\n",
    "- ```'' and True```\n",
    "- ```25 and {25}```\n",
    "- ```{0} and 0```"
   ]
  },
  {
   "cell_type": "code",
   "execution_count": 27,
   "metadata": {},
   "outputs": [
    {
     "data": {
      "text/plain": [
       "{25}"
      ]
     },
     "execution_count": 27,
     "metadata": {},
     "output_type": "execute_result"
    }
   ],
   "source": [
    "25 and {25}"
   ]
  },
  {
   "cell_type": "markdown",
   "metadata": {},
   "source": [
    "Lets try with `or`.\n",
    "- ```None or {}```\n",
    "- ```'' or True```\n",
    "- ```25 or {25}```\n",
    "- ```{0} or 0```"
   ]
  },
  {
   "cell_type": "code",
   "execution_count": 28,
   "metadata": {},
   "outputs": [
    {
     "data": {
      "text/plain": [
       "{0}"
      ]
     },
     "execution_count": 28,
     "metadata": {},
     "output_type": "execute_result"
    }
   ],
   "source": [
    "{0} or 0"
   ]
  },
  {
   "cell_type": "markdown",
   "metadata": {},
   "source": [
    "Finally, we can also play with operator presidence.\n",
    "- ```not (True or False) or 'hello'```\n",
    "- ```'first' and 'second' or False```\n",
    "- ```False or not None and 1+0*2-1```\n",
    "- ```(0) or not 0```\n",
    "- ```(0,) or not 0```"
   ]
  },
  {
   "cell_type": "code",
   "execution_count": 29,
   "metadata": {},
   "outputs": [
    {
     "data": {
      "text/plain": [
       "(0,)"
      ]
     },
     "execution_count": 29,
     "metadata": {},
     "output_type": "execute_result"
    }
   ],
   "source": [
    "(0,) or not 0"
   ]
  },
  {
   "cell_type": "markdown",
   "metadata": {},
   "source": [
    "## Exercise 4: Periodic Function\n",
    "Observe the following function, used in the famous Schor's algorithm.\n",
    "$$ f(x) = a^x mod N$$\n",
    "This function is periodic, with $r$ being the smallest(non-zero) integer such that\n",
    "$$ a^r mod N = 1$$\n",
    "Let $a=2$ and $N=31$. \n",
    "Create a list that contains the values of this function for $x=0,1,...,10.$\n",
    "<img src=\"images/Shor's_algorithm.png\" alt=\"two dice\" width=\"700\"/>"
   ]
  },
  {
   "cell_type": "code",
   "execution_count": 9,
   "metadata": {},
   "outputs": [
    {
     "name": "stdout",
     "output_type": "stream",
     "text": [
      "[1, 2, 4, 8, 16, 1, 2, 4, 8, 16, 1]\n"
     ]
    }
   ],
   "source": [
    "List = [] #Creating an empty list\n",
    "\n",
    "List.append((2**0)%31)\n",
    "List.append((2**1)%31)\n",
    "List.append((2**2)%31)\n",
    "List.append((2**3)%31)\n",
    "List.append((2**4)%31)\n",
    "List.append((2**5)%31)\n",
    "List.append((2**6)%31)\n",
    "List.append((2**7)%31)\n",
    "List.append((2**8)%31)\n",
    "List.append((2**9)%31)\n",
    "List.append((2**10)%31)\n",
    "\n",
    "print(List)"
   ]
  },
  {
   "cell_type": "markdown",
   "metadata": {},
   "source": [
    "Using this list or otherwise, observe and print the value of r."
   ]
  },
  {
   "cell_type": "code",
   "execution_count": 10,
   "metadata": {},
   "outputs": [
    {
     "name": "stdout",
     "output_type": "stream",
     "text": [
      "0\n",
      "5\n",
      "10\n"
     ]
    }
   ],
   "source": [
    "for i in range(0,11):\n",
    "    if List[i] == 1:\n",
    "        print(i)\n",
    "        \n",
    "    \n",
    "    "
   ]
  },
  {
   "cell_type": "markdown",
   "metadata": {},
   "source": [
    "Now convert this list to a set and print it to observe the values taken by the function in a single period."
   ]
  },
  {
   "cell_type": "code",
   "execution_count": 11,
   "metadata": {},
   "outputs": [
    {
     "name": "stdout",
     "output_type": "stream",
     "text": [
      "{1, 2, 4, 8, 16}\n"
     ]
    }
   ],
   "source": [
    "myset = set(List)\n",
    "print(myset)"
   ]
  },
  {
   "cell_type": "code",
   "execution_count": null,
   "metadata": {},
   "outputs": [],
   "source": []
  }
 ],
 "metadata": {
  "deepnote": {
   "is_reactive": false
  },
  "deepnote_execution_queue": [],
  "deepnote_notebook_id": "eb07da20-6aaf-4886-88b4-49188e0c1ab1",
  "kernelspec": {
   "display_name": "Python 3 (ipykernel)",
   "language": "python",
   "name": "python3"
  },
  "language_info": {
   "codemirror_mode": {
    "name": "ipython",
    "version": 3
   },
   "file_extension": ".py",
   "mimetype": "text/x-python",
   "name": "python",
   "nbconvert_exporter": "python",
   "pygments_lexer": "ipython3",
   "version": "3.10.18"
  }
 },
 "nbformat": 4,
 "nbformat_minor": 4
}
