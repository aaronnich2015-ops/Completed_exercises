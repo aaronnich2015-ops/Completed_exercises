{
 "cells": [
  {
   "cell_type": "markdown",
   "metadata": {
    "cell_id": "00000-02bed928-a705-4cae-bf8a-f786a301963f",
    "deepnote_cell_type": "markdown",
    "tags": []
   },
   "source": [
    "# Week 2: Tutorial"
   ]
  },
  {
   "cell_type": "markdown",
   "metadata": {
    "cell_id": "00005-6a6f2e0a-4e96-4550-94f6-3ac347021b96",
    "deepnote_cell_type": "markdown",
    "tags": []
   },
   "source": [
    "## Exercise 1: Convert Decimal To Ten Bit Binary String\n",
    "\n",
    "In this exercise we want to convert a decimal number to a binary string with exactly ten character bits. For example,\n",
    "\n",
    " $$ 1_{decimal} = 1_{binary} = 0000000001_{binary} $$ \n",
    "\n",
    " or\n",
    "\n",
    "  $$ 10_{decimal} = 1010_{binary} = 0000001010_{binary} $$\n",
    "\n",
    "Create code that converts a decimal to binary, `bin(decimal)`, removes the proceding `0b`, and adds in the required amount of 0s to make it a ten character string. If the binary has more than ten bits, slice the string so it contains only the last 10 bits. Prompt the user with the `input()` function for a decimal number.\n",
    "\n",
    "*Hint:* `bin(decimal)` *returns a string. Can use string manipulation, and a conditional to differentiate between strings with less than or more than ten bits.*"
   ]
  },
  {
   "cell_type": "code",
   "execution_count": 11,
   "metadata": {
    "cell_id": "00003-4a8133ee-2401-4047-928e-353954bc9b6a",
    "deepnote_cell_type": "code",
    "deepnote_to_be_reexecuted": false,
    "execution_millis": 5242,
    "execution_start": 1624624835893,
    "source_hash": "4ebce97f",
    "tags": []
   },
   "outputs": [
    {
     "name": "stdin",
     "output_type": "stream",
     "text": [
      "convert to decimal 74748379\n"
     ]
    },
    {
     "name": "stdout",
     "output_type": "stream",
     "text": [
      "0b100011101001001000111011011\n",
      "0111011011\n"
     ]
    }
   ],
   "source": [
    "x = input('convert to decimal')\n",
    "x = int(x)\n",
    "a = bin(x)\n",
    "print(a)\n",
    "a = a[2:len(a)]\n",
    "if len(a) <= 10: \n",
    "    print(a.zfill(10))\n",
    "else:\n",
    "    a = a[len(a) - 10:len(a)]\n",
    "print(a)\n"
   ]
  },
  {
   "cell_type": "markdown",
   "metadata": {
    "cell_id": "00004-0f967908-ea56-4c30-b3e7-8211a547ba95",
    "deepnote_cell_type": "markdown",
    "tags": []
   },
   "source": [
    "If we wanted to make the number of bits an arbitrary amount, rather than just 10, rewrite the code in such a way to accomplish this."
   ]
  },
  {
   "cell_type": "code",
   "execution_count": 1,
   "metadata": {
    "cell_id": "00005-e525407c-206f-4ca0-876e-06357963983c",
    "deepnote_cell_type": "code",
    "deepnote_to_be_reexecuted": false,
    "execution_millis": 11452,
    "execution_start": 1624625002859,
    "source_hash": "ffa7d701",
    "tags": []
   },
   "outputs": [
    {
     "name": "stdin",
     "output_type": "stream",
     "text": [
      "convert to decimal 15254\n"
     ]
    },
    {
     "name": "stdout",
     "output_type": "stream",
     "text": [
      "0b11101110010110\n",
      "11101110010110\n"
     ]
    }
   ],
   "source": [
    "x = input('convert to decimal')\n",
    "x = int(x)\n",
    "a = bin(x)\n",
    "print(a)\n",
    "a = a[2:len(a)]\n",
    "print(a.zfill(10))\n"
   ]
  },
  {
   "cell_type": "markdown",
   "metadata": {
    "cell_id": "00006-1b21ff2a-197f-41be-ad40-069aa19da779",
    "deepnote_cell_type": "markdown",
    "tags": []
   },
   "source": [
    "Given some arbitrary fixed number of bits, what is the largest decimal number you can represent with those bits? "
   ]
  },
  {
   "cell_type": "code",
   "execution_count": null,
   "metadata": {
    "cell_id": "00007-bad1bbaf-511c-4e77-b962-e33024078e90",
    "deepnote_cell_type": "code",
    "deepnote_to_be_reexecuted": false,
    "execution_millis": 10,
    "execution_start": 1624624103570,
    "source_hash": "f551c0a",
    "tags": []
   },
   "outputs": [],
   "source": []
  },
  {
   "cell_type": "markdown",
   "metadata": {
    "cell_id": "00008-be83c5e7-f89f-4e23-acc3-fa520126e77c",
    "deepnote_cell_type": "markdown",
    "tags": []
   },
   "source": [
    "## Exercise 2: For Loops, Sequence Sum\n",
    "\n",
    "Prompt the user to input a positive integer number $n$. Calculate the sum $$1+2+3+...+n $$ using a for loop. Print the answer"
   ]
  },
  {
   "cell_type": "code",
   "execution_count": 13,
   "metadata": {},
   "outputs": [
    {
     "name": "stdin",
     "output_type": "stream",
     "text": [
      "sum from 1 to 8\n"
     ]
    },
    {
     "name": "stdout",
     "output_type": "stream",
     "text": [
      "36\n"
     ]
    }
   ],
   "source": [
    "n = input('sum from 1 to')\n",
    "n = int(n)\n",
    "a = 0\n",
    "for i in range(1, n+1):\n",
    "    a += i \n",
    "print(a)\n",
    "    "
   ]
  },
  {
   "cell_type": "markdown",
   "metadata": {
    "cell_id": "00010-7e5952bc-a05b-441d-af41-7799925b06c8",
    "deepnote_cell_type": "markdown",
    "tags": []
   },
   "source": [
    "Alternatively, we could use the formula $$1+2+3+...+n = \\frac{n(n+1)}{2}$$. Check to see our for loop returns the value obtained from the formula. Print a Boolean answer."
   ]
  },
  {
   "cell_type": "code",
   "execution_count": 15,
   "metadata": {
    "cell_id": "00011-b8b03db6-14c8-4fa2-9053-16bc5c8dc793",
    "deepnote_cell_type": "code",
    "deepnote_to_be_reexecuted": false,
    "execution_millis": 4634,
    "execution_start": 1624626259471,
    "source_hash": "35d99a26",
    "tags": []
   },
   "outputs": [
    {
     "data": {
      "text/plain": [
       "True"
      ]
     },
     "execution_count": 15,
     "metadata": {},
     "output_type": "execute_result"
    }
   ],
   "source": [
    "a == (n*(n+1))/2"
   ]
  },
  {
   "cell_type": "markdown",
   "metadata": {
    "cell_id": "00012-260a1fd2-b9b3-4bae-bf0d-62171ddc35e0",
    "deepnote_cell_type": "markdown",
    "tags": []
   },
   "source": [
    "## Exercise 3: While Loops, Reverse A Given Number\n",
    "\n",
    "Prompt the user to input a positive integer number and reverse the number. For example: $$ 257864 \\rightarrow 468752 $$ \n",
    "\n",
    "(Hint: 257864 % 10 = 4)"
   ]
  },
  {
   "cell_type": "code",
   "execution_count": 16,
   "metadata": {},
   "outputs": [
    {
     "name": "stdin",
     "output_type": "stream",
     "text": [
      "reverse this 12345\n"
     ]
    },
    {
     "name": "stdout",
     "output_type": "stream",
     "text": [
      "54321\n"
     ]
    }
   ],
   "source": [
    "x = input('reverse this')\n",
    "print(x[::-1])"
   ]
  },
  {
   "cell_type": "markdown",
   "metadata": {
    "cell_id": "00014-28951a3c-5d31-4939-b230-caba0222b9fd",
    "deepnote_cell_type": "markdown",
    "tags": []
   },
   "source": [
    "## Exercise 4: List Comprehensions\n",
    "\n",
    "Create a list of all the even numbers from 0 $\\rightarrow$ 1000 that are not divisible by 4."
   ]
  },
  {
   "cell_type": "code",
   "execution_count": 1,
   "metadata": {
    "cell_id": "00015-b0fe9d20-d77a-4ab0-a3ae-6e0453f629b6",
    "deepnote_cell_type": "code",
    "deepnote_to_be_reexecuted": false,
    "execution_millis": 1,
    "execution_start": 1624887079369,
    "source_hash": "a665de46",
    "tags": []
   },
   "outputs": [
    {
     "name": "stdout",
     "output_type": "stream",
     "text": [
      "<class 'list'>\n",
      "[1, 2, 3, 5, 6, 7, 9, 10, 11, 13, 14, 15, 17, 18, 19, 21, 22, 23, 25, 26, 27, 29, 30, 31, 33, 34, 35, 37, 38, 39, 41, 42, 43, 45, 46, 47, 49, 50, 51, 53, 54, 55, 57, 58, 59, 61, 62, 63, 65, 66, 67, 69, 70, 71, 73, 74, 75, 77, 78, 79, 81, 82, 83, 85, 86, 87, 89, 90, 91, 93, 94, 95, 97, 98, 99, 101, 102, 103, 105, 106, 107, 109, 110, 111, 113, 114, 115, 117, 118, 119, 121, 122, 123, 125, 126, 127, 129, 130, 131, 133, 134, 135, 137, 138, 139, 141, 142, 143, 145, 146, 147, 149, 150, 151, 153, 154, 155, 157, 158, 159, 161, 162, 163, 165, 166, 167, 169, 170, 171, 173, 174, 175, 177, 178, 179, 181, 182, 183, 185, 186, 187, 189, 190, 191, 193, 194, 195, 197, 198, 199, 201, 202, 203, 205, 206, 207, 209, 210, 211, 213, 214, 215, 217, 218, 219, 221, 222, 223, 225, 226, 227, 229, 230, 231, 233, 234, 235, 237, 238, 239, 241, 242, 243, 245, 246, 247, 249, 250, 251, 253, 254, 255, 257, 258, 259, 261, 262, 263, 265, 266, 267, 269, 270, 271, 273, 274, 275, 277, 278, 279, 281, 282, 283, 285, 286, 287, 289, 290, 291, 293, 294, 295, 297, 298, 299, 301, 302, 303, 305, 306, 307, 309, 310, 311, 313, 314, 315, 317, 318, 319, 321, 322, 323, 325, 326, 327, 329, 330, 331, 333, 334, 335, 337, 338, 339, 341, 342, 343, 345, 346, 347, 349, 350, 351, 353, 354, 355, 357, 358, 359, 361, 362, 363, 365, 366, 367, 369, 370, 371, 373, 374, 375, 377, 378, 379, 381, 382, 383, 385, 386, 387, 389, 390, 391, 393, 394, 395, 397, 398, 399, 401, 402, 403, 405, 406, 407, 409, 410, 411, 413, 414, 415, 417, 418, 419, 421, 422, 423, 425, 426, 427, 429, 430, 431, 433, 434, 435, 437, 438, 439, 441, 442, 443, 445, 446, 447, 449, 450, 451, 453, 454, 455, 457, 458, 459, 461, 462, 463, 465, 466, 467, 469, 470, 471, 473, 474, 475, 477, 478, 479, 481, 482, 483, 485, 486, 487, 489, 490, 491, 493, 494, 495, 497, 498, 499, 501, 502, 503, 505, 506, 507, 509, 510, 511, 513, 514, 515, 517, 518, 519, 521, 522, 523, 525, 526, 527, 529, 530, 531, 533, 534, 535, 537, 538, 539, 541, 542, 543, 545, 546, 547, 549, 550, 551, 553, 554, 555, 557, 558, 559, 561, 562, 563, 565, 566, 567, 569, 570, 571, 573, 574, 575, 577, 578, 579, 581, 582, 583, 585, 586, 587, 589, 590, 591, 593, 594, 595, 597, 598, 599, 601, 602, 603, 605, 606, 607, 609, 610, 611, 613, 614, 615, 617, 618, 619, 621, 622, 623, 625, 626, 627, 629, 630, 631, 633, 634, 635, 637, 638, 639, 641, 642, 643, 645, 646, 647, 649, 650, 651, 653, 654, 655, 657, 658, 659, 661, 662, 663, 665, 666, 667, 669, 670, 671, 673, 674, 675, 677, 678, 679, 681, 682, 683, 685, 686, 687, 689, 690, 691, 693, 694, 695, 697, 698, 699, 701, 702, 703, 705, 706, 707, 709, 710, 711, 713, 714, 715, 717, 718, 719, 721, 722, 723, 725, 726, 727, 729, 730, 731, 733, 734, 735, 737, 738, 739, 741, 742, 743, 745, 746, 747, 749, 750, 751, 753, 754, 755, 757, 758, 759, 761, 762, 763, 765, 766, 767, 769, 770, 771, 773, 774, 775, 777, 778, 779, 781, 782, 783, 785, 786, 787, 789, 790, 791, 793, 794, 795, 797, 798, 799, 801, 802, 803, 805, 806, 807, 809, 810, 811, 813, 814, 815, 817, 818, 819, 821, 822, 823, 825, 826, 827, 829, 830, 831, 833, 834, 835, 837, 838, 839, 841, 842, 843, 845, 846, 847, 849, 850, 851, 853, 854, 855, 857, 858, 859, 861, 862, 863, 865, 866, 867, 869, 870, 871, 873, 874, 875, 877, 878, 879, 881, 882, 883, 885, 886, 887, 889, 890, 891, 893, 894, 895, 897, 898, 899, 901, 902, 903, 905, 906, 907, 909, 910, 911, 913, 914, 915, 917, 918, 919, 921, 922, 923, 925, 926, 927, 929, 930, 931, 933, 934, 935, 937, 938, 939, 941, 942, 943, 945, 946, 947, 949, 950, 951, 953, 954, 955, 957, 958, 959, 961, 962, 963, 965, 966, 967, 969, 970, 971, 973, 974, 975, 977, 978, 979, 981, 982, 983, 985, 986, 987, 989, 990, 991, 993, 994, 995, 997, 998, 999]\n"
     ]
    }
   ],
   "source": [
    "num = []\n",
    "\n",
    "print(type(num))\n",
    "for i in range(0,1001):\n",
    "    if i%4 != 0:\n",
    "        num.append(i)\n",
    "print(num)"
   ]
  },
  {
   "cell_type": "markdown",
   "metadata": {
    "cell_id": "00016-adf0bceb-b5d9-41e2-8fd5-9bd47d8f28b2",
    "deepnote_cell_type": "markdown",
    "tags": []
   },
   "source": [
    "A year is a leap year when it is divisible by 4, not divisible by 100 unless it is divisible by 400. Create a list containing leap years from year $1890 \\rightarrow 2050$"
   ]
  },
  {
   "cell_type": "code",
   "execution_count": 38,
   "metadata": {
    "cell_id": "00016-8e7bef0f-7161-4ee9-b9c7-1b82145a6b93",
    "deepnote_cell_type": "code",
    "deepnote_to_be_reexecuted": false,
    "execution_millis": 7,
    "execution_start": 1624889493881,
    "source_hash": "14117288",
    "tags": []
   },
   "outputs": [
    {
     "name": "stdout",
     "output_type": "stream",
     "text": [
      "[1892, 1896, 1900, 1904, 1908, 1912, 1916, 1920, 1924, 1928, 1932, 1936, 1940, 1944, 1948, 1952, 1956, 1960, 1964, 1968, 1972, 1976, 1980, 1984, 1988, 1992, 1996, 2000, 2004, 2008, 2012, 2016, 2020, 2024, 2028, 2032, 2036, 2040, 2044, 2048]\n"
     ]
    }
   ],
   "source": [
    "leap_years = []\n",
    "for i in range(1890,2051):\n",
    "    if i%4 == 0:\n",
    "        leap_years.append(i)\n",
    "print(leap_years)"
   ]
  },
  {
   "cell_type": "markdown",
   "metadata": {},
   "source": [
    "Make a list of all the primes less than 100."
   ]
  },
  {
   "cell_type": "code",
   "execution_count": 61,
   "metadata": {},
   "outputs": [
    {
     "name": "stdout",
     "output_type": "stream",
     "text": [
      "[2, 3, 5, 7, 11, 13, 17, 19, 23, 29, 31, 37, 41, 43, 47, 53, 59, 61, 67, 71, 73, 79, 83, 89, 97]\n"
     ]
    }
   ],
   "source": [
    "primes = []\n",
    "for x in range(2,100):\n",
    "    is_prime = True\n",
    "    for i in range(2, x):\n",
    "        if x % i == 0 :\n",
    "            is_prime = False\n",
    "            break \n",
    "    if is_prime == True:\n",
    "        primes.append(x)\n",
    "        \n",
    "print(primes)\n"
   ]
  },
  {
   "cell_type": "markdown",
   "metadata": {
    "cell_id": "00016-6f5209e4-d25b-48a3-99ea-6198f23b1c4d",
    "deepnote_cell_type": "markdown",
    "tags": []
   },
   "source": [
    "## Exercise 5: DNA\n",
    "\n",
    "Read in the file named 'DNA.txt' and count the number of times the base C occurs. A DNA sequence contains bases A,C,G and T."
   ]
  },
  {
   "cell_type": "code",
   "execution_count": 72,
   "metadata": {
    "cell_id": "00021-039bb306-ff53-48ac-b7de-335f29e5b986",
    "deepnote_cell_type": "code",
    "deepnote_to_be_reexecuted": false,
    "execution_millis": 10,
    "execution_start": 1624999994006,
    "source_hash": "6b579f38",
    "tags": []
   },
   "outputs": [
    {
     "name": "stdout",
     "output_type": "stream",
     "text": [
      "5651\n",
      "1452\n"
     ]
    }
   ],
   "source": [
    "with open('DNA.txt', 'r') as f:\n",
    "    data = str(f.read())\n",
    "amount = data.count('C')\n",
    "print(amount)"
   ]
  },
  {
   "cell_type": "markdown",
   "metadata": {},
   "source": [
    "## Exercise 6: Collatz Conjecture\n",
    "If we take any positive integer and if it's even divide it by two and if it's odd multiply it by three and add one. Do this successivly again and again. Verify that we always get back to 1."
   ]
  },
  {
   "cell_type": "code",
   "execution_count": null,
   "metadata": {},
   "outputs": [],
   "source": [
    "def Col(x):\n",
    "    if x % 2 == 0:\n",
    "        x = x/2\n",
    "    elif x % 2 == 1:\n",
    "        x = x*3 + 1\n",
    "    elif x == 1:\n",
    "        break\n",
    "    return x \n",
    "\n",
    "if col(x) == 1 \n",
    "        "
   ]
  },
  {
   "cell_type": "markdown",
   "metadata": {},
   "source": [
    "## Exercise 7: Fizz Buzz\n",
    "Print out numbers in order. Every time there is a multiple of 3 print 'Fizz' instead. Every time there is a multiple of 5 print 'Buzz'. Every time there is both print 'Fizz Buzz'."
   ]
  },
  {
   "cell_type": "code",
   "execution_count": 7,
   "metadata": {},
   "outputs": [
    {
     "name": "stdout",
     "output_type": "stream",
     "text": [
      "1\n",
      "2\n",
      "Fizz\n",
      "4\n",
      "Buzz\n",
      "Fizz\n",
      "7\n",
      "8\n",
      "Fizz\n",
      "Buzz\n",
      "11\n",
      "Fizz\n",
      "13\n",
      "14\n",
      "Fizz Buzz\n",
      "16\n",
      "17\n",
      "Fizz\n",
      "19\n",
      "Buzz\n",
      "Fizz\n",
      "22\n",
      "23\n",
      "Fizz\n",
      "Buzz\n",
      "26\n",
      "Fizz\n",
      "28\n",
      "29\n",
      "Fizz Buzz\n",
      "31\n",
      "32\n",
      "Fizz\n",
      "34\n",
      "Buzz\n",
      "Fizz\n",
      "37\n",
      "38\n",
      "Fizz\n",
      "Buzz\n",
      "41\n",
      "Fizz\n",
      "43\n",
      "44\n",
      "Fizz Buzz\n",
      "46\n",
      "47\n",
      "Fizz\n",
      "49\n",
      "Buzz\n",
      "Fizz\n",
      "52\n",
      "53\n",
      "Fizz\n",
      "Buzz\n",
      "56\n",
      "Fizz\n",
      "58\n",
      "59\n",
      "Fizz Buzz\n"
     ]
    }
   ],
   "source": [
    "for i in range (1,61):\n",
    "     if i % 3 == 0 and i % 5 == 0:\n",
    "        print('Fizz Buzz')\n",
    "     elif i % 3 == 0:\n",
    "        print('Fizz')\n",
    "     elif i % 5 == 0:\n",
    "        print('Buzz')\n",
    "     else:\n",
    "        print(i)\n",
    "    "
   ]
  },
  {
   "cell_type": "code",
   "execution_count": null,
   "metadata": {},
   "outputs": [],
   "source": []
  }
 ],
 "metadata": {
  "deepnote": {
   "is_reactive": false
  },
  "deepnote_execution_queue": [],
  "deepnote_notebook_id": "306c39d2-aca8-4e42-8856-f5e25ad02ff5",
  "kernelspec": {
   "display_name": "Python 3 (ipykernel)",
   "language": "python",
   "name": "python3"
  },
  "language_info": {
   "codemirror_mode": {
    "name": "ipython",
    "version": 3
   },
   "file_extension": ".py",
   "mimetype": "text/x-python",
   "name": "python",
   "nbconvert_exporter": "python",
   "pygments_lexer": "ipython3",
   "version": "3.10.18"
  }
 },
 "nbformat": 4,
 "nbformat_minor": 4
}
